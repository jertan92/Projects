{
 "cells": [
  {
   "cell_type": "markdown",
   "id": "d2590bfd",
   "metadata": {},
   "source": [
    "# Datasets preparation"
   ]
  },
  {
   "cell_type": "code",
   "execution_count": 1,
   "id": "bf7dc917",
   "metadata": {},
   "outputs": [],
   "source": [
    "# Load libraries\n",
    "import numpy as np # for mathematical computations\n",
    "import pandas as pd # for data procesing, analysis\n",
    "import matplotlib.pyplot as plt # for plotting"
   ]
  },
  {
   "cell_type": "code",
   "execution_count": 2,
   "id": "99f38290",
   "metadata": {},
   "outputs": [],
   "source": [
    "# Importing the dataset\n",
    "churn = pd.read_csv('./BankChurners.csv')"
   ]
  },
  {
   "cell_type": "code",
   "execution_count": 3,
   "id": "4b676ee3",
   "metadata": {},
   "outputs": [],
   "source": [
    "# Creating 3 sub datasets from the dataset\n",
    "attrition_data = pd.DataFrame()\n",
    "attrition_data['clientnum'] = churn['CLIENTNUM']\n",
    "attrition_data['attrition_flag'] = churn['Attrition_Flag']"
   ]
  },
  {
   "cell_type": "code",
   "execution_count": 4,
   "id": "9e5b0aca",
   "metadata": {},
   "outputs": [],
   "source": [
    "customer_data = churn.iloc[:,[0,2,3,4,5,6,7]]"
   ]
  },
  {
   "cell_type": "code",
   "execution_count": 5,
   "id": "1515ba1a",
   "metadata": {},
   "outputs": [],
   "source": [
    "cols = [1,2,3,4,5,6,7,21,22]\n",
    "credit_card_data = churn.drop(churn.columns[cols],axis=1)"
   ]
  },
  {
   "cell_type": "code",
   "execution_count": 6,
   "id": "f9c591be",
   "metadata": {},
   "outputs": [],
   "source": [
    "# To save the sub datasets\n",
    "attrition_data.to_csv('attrition.csv', index=False)\n",
    "customer_data.to_csv('customer.csv', index=False)\n",
    "credit_card_data.to_csv('card.csv', index=False)"
   ]
  }
 ],
 "metadata": {
  "kernelspec": {
   "display_name": "Python 3 (ipykernel)",
   "language": "python",
   "name": "python3"
  },
  "language_info": {
   "codemirror_mode": {
    "name": "ipython",
    "version": 3
   },
   "file_extension": ".py",
   "mimetype": "text/x-python",
   "name": "python",
   "nbconvert_exporter": "python",
   "pygments_lexer": "ipython3",
   "version": "3.8.13"
  }
 },
 "nbformat": 4,
 "nbformat_minor": 5
}
