{
 "cells": [
  {
   "cell_type": "markdown",
   "id": "d98bb61b",
   "metadata": {},
   "source": [
    "# Streamlit app deployment"
   ]
  },
  {
   "cell_type": "code",
   "execution_count": 1,
   "id": "a0c28e3f",
   "metadata": {},
   "outputs": [
    {
     "name": "stdout",
     "output_type": "stream",
     "text": [
      "Writing standardize.py\n"
     ]
    }
   ],
   "source": [
    "%%writefile standardize.py\n",
    "import numpy as np\n",
    "import pandas as pd \n",
    "from sklearn.preprocessing import StandardScaler\n",
    "def standard(data):\n",
    "    X_train_dep_2 = pd.read_csv('../capstone/X_train_dep_2.csv')\n",
    "    ss = StandardScaler()\n",
    "    X_train_dep_2_sc = ss.fit_transform(X_train_dep_2)\n",
    "    std_data = ss.transform(data)\n",
    "    return std_data"
   ]
  },
  {
   "cell_type": "code",
   "execution_count": 2,
   "id": "e2e6db97",
   "metadata": {},
   "outputs": [
    {
     "name": "stdout",
     "output_type": "stream",
     "text": [
      "Writing streamlit_app.py\n"
     ]
    }
   ],
   "source": [
    "%%writefile streamlit_app.py\n",
    "import streamlit as st\n",
    "import numpy as np\n",
    "import pandas as pd\n",
    "from standardize import standard\n",
    "import joblib\n",
    "model = joblib.load(\"model.sav\")"
   ]
  },
  {
   "cell_type": "code",
   "execution_count": 3,
   "id": "2e9405f4",
   "metadata": {},
   "outputs": [
    {
     "name": "stdout",
     "output_type": "stream",
     "text": [
      "Appending to streamlit_app.py\n"
     ]
    }
   ],
   "source": [
    "%%writefile -a streamlit_app.py\n",
    "def main():\n",
    "    st.title(\"Prediction of customer churn 💳\")\n",
    "    st.markdown(\n",
    "        \"\"\"\n",
    "    This is a streamlit app that was constructed to predict churn for credit card customers.  \n",
    "    \"\"\"\n",
    "    )\n",
    "    st.text(\"\")\n",
    "    st.text(\"\")\n",
    "    st.text(\"\")\n",
    "    st.sidebar.title(\"Type of Prediction\")\n",
    "    st.sidebar.markdown(\n",
    "        \"\"\"\n",
    "    Please kindly indicate if you would like to predict customer churn for single or multiple customers.\n",
    "    \"\"\"\n",
    "    )\n",
    "    st.sidebar.text(\"\")\n",
    "    st.sidebar.text(\"\")\n",
    "    add_selectbox = st.sidebar.selectbox(\"Single Customer or Multiple Customers?\", (\"Single\", \"Multiple\"))\n",
    "    if add_selectbox == \"Single\":\n",
    "        total_trans_amt = st.number_input(\"Total Transaction Amount(Last 12 months):\", min_value = 0)\n",
    "        total_trans_ct = st.number_input(\"Total Transaction Count(Last 12 months):\", min_value = 0)\n",
    "        total_amt_chng_q4_q1 = st.number_input(\"Change in Transaction Amount (Q4 over Q1):\", min_value = 0.0, step=0.001, format=\"%0.3f\")\n",
    "        total_revolving_bal = st.number_input(\"Total Revolving Balance on the Credit Card:\", min_value = 0)\n",
    "        total_ct_chng_q4_q1 = st.number_input(\"Change in Transaction Count (Q4 over Q1):\", min_value = 0.0, step=0.001, format=\"%0.3f\")\n",
    "        months_inactive_12_mon = st.number_input(\"No. of months inactive in the last 12 months:\", min_value = 0)\n",
    "        contacts_count_12_mon = st.number_input(\"No. of Contacts in the last 12 months:\", min_value = 0)\n",
    "        total_relationship_count = st.number_input(\"Total number of products held by the customer:\", min_value = 0)\n",
    "        credit_limit = st.number_input(\"Credit Limit on the Credit Card:\", min_value = 0)\n",
    "        avg_utilization_ratio = st.number_input(\"Average Card Utilization Ratio:\", min_value = 0.0, step=0.001, format=\"%0.3f\")\n",
    "        input_data=[[total_trans_amt, total_trans_ct, total_amt_chng_q4_q1, total_revolving_bal, total_ct_chng_q4_q1, \n",
    "                     months_inactive_12_mon, contacts_count_12_mon, total_relationship_count, credit_limit, \n",
    "                     avg_utilization_ratio]]\n",
    "        std_data = standard(input_data)\n",
    " \n",
    "        # make prediction\n",
    "        prediction_single = model.predict(std_data)\n",
    "        \n",
    "        if st.button('Predict'):\n",
    "            if (prediction_single[0] == 1):\n",
    "                st.warning('The customer is going to churn! 😡')\n",
    "            else:\n",
    "                st.success('The customer is not going to churn. 😊')\n",
    "    \n",
    "    if add_selectbox == \"Multiple\":\n",
    "        file_upload = st.file_uploader('Please kindly upload csv file for predictions', type = ['csv'])\n",
    "        if file_upload is not None:\n",
    "            input_data_multiple = pd.read_csv(file_upload)\n",
    "            df = pd.DataFrame(input_data_multiple)\n",
    "            df.columns = map(str.lower, df.columns)\n",
    "            df = df[['total_trans_amt', 'total_trans_ct', 'total_amt_chng_q4_q1', 'total_revolving_bal', \n",
    "                     'total_ct_chng_q4_q1', 'months_inactive_12_mon', 'contacts_count_12_mon', 'total_relationship_count',\n",
    "                     'credit_limit', 'avg_utilization_ratio']]\n",
    "            std_data_multiple = standard(df)\n",
    "            \n",
    "            if st.button('Predict'):\n",
    "                prediction = model.predict(std_data_multiple)\n",
    "                prediction_df = pd.DataFrame(prediction, columns=[\"Predictions\"])\n",
    "                prediction_df = prediction_df.replace({0:'The customer is not going to churn.',\n",
    "                                                    1:'The customer is going to churn!'})\n",
    "\n",
    "                st.markdown(\"<h3></h3>\", unsafe_allow_html=True)\n",
    "                st.subheader('Prediction')\n",
    "                st.write(prediction_df)\n",
    "            \n",
    "if __name__ == '__main__':\n",
    "        main()"
   ]
  }
 ],
 "metadata": {
  "kernelspec": {
   "display_name": "Python 3 (ipykernel)",
   "language": "python",
   "name": "python3"
  },
  "language_info": {
   "codemirror_mode": {
    "name": "ipython",
    "version": 3
   },
   "file_extension": ".py",
   "mimetype": "text/x-python",
   "name": "python",
   "nbconvert_exporter": "python",
   "pygments_lexer": "ipython3",
   "version": "3.8.13"
  }
 },
 "nbformat": 4,
 "nbformat_minor": 5
}
